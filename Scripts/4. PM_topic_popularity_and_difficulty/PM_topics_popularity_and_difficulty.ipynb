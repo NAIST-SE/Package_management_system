{
 "cells": [
  {
   "cell_type": "code",
   "execution_count": 14,
   "metadata": {},
   "outputs": [],
   "source": [
    "import re\n",
    "import pandas as pd\n",
    "import numpy as np\n",
    "from collections import Counter\n",
    "import statistics\n",
    "import os\n",
    "\n",
    "os.chdir(\"F:/1_NAIST_Research_SE/SE_meeting/PM_Stackoverflow/ICSME/Dataset/\")\n",
    "\n",
    "#df1=pd.read_csv(\"RQ1_ecommerce_version_1.csv\",low_memory=False)\n",
    "df1=pd.read_csv(\"PM_LDA_topics_mapped_by_major_minor_topic_name_details.csv\",low_memory=False )\n",
    "\n",
    "df2=pd.read_csv(\"PM_15_topic_keywords_detail_with_meta_information.csv\",low_memory=False )\n"
   ]
  },
  {
   "cell_type": "code",
   "execution_count": 17,
   "metadata": {},
   "outputs": [
    {
     "data": {
      "text/plain": [
       "Index(['Unnamed: 0', 'Semi_major', 'Major_cat', 'post_Enviroment',\n",
       "       'post_Dependency', 'post_category', 'post_language', 'Document_No',\n",
       "       'Dominant_Topic', 'Topic_Perc_Contrib', 'Keywords', 'Title', 'Id',\n",
       "       'Tags', 'AcceptedAnswerId'],\n",
       "      dtype='object')"
      ]
     },
     "execution_count": 17,
     "metadata": {},
     "output_type": "execute_result"
    }
   ],
   "source": [
    "df1.columns"
   ]
  },
  {
   "cell_type": "code",
   "execution_count": 18,
   "metadata": {},
   "outputs": [
    {
     "data": {
      "text/plain": [
       "Index(['Unnamed: 0', 'Id', 'Document_No', 'Dominant_Topic',\n",
       "       'Topic_Perc_Contrib', 'Keywords', 'Tags', 'Title', 'AcceptedAnswerId',\n",
       "       'OwnerUserId', 'AnswerCount', 'CommentCount', 'FavoriteCount',\n",
       "       'CommunityOwnedDate', 'CreationDate', 'Score', 'ViewCount', 'Body'],\n",
       "      dtype='object')"
      ]
     },
     "execution_count": 18,
     "metadata": {},
     "output_type": "execute_result"
    }
   ],
   "source": [
    "df2.columns"
   ]
  },
  {
   "cell_type": "markdown",
   "metadata": {},
   "source": [
    "**Merging all informations**"
   ]
  },
  {
   "cell_type": "code",
   "execution_count": 20,
   "metadata": {},
   "outputs": [],
   "source": [
    "# #df1\n",
    "# Id=[]\n",
    "# Document_No=[]\n",
    "# Dominant_Topic=[]\n",
    "# Topic_Perc_Contrib=[]\n",
    "# Keywords=[]\n",
    "# Tags=[]\n",
    "# Title=[]\n",
    "# AcceptedAnswerId=[]\n",
    "# OwnerUserId=[]\n",
    "# AnswerCount=[]\n",
    "# CommentCount=[]\n",
    "# FavoriteCount=[]\n",
    "# CommunityOwnedDate=[]\n",
    "# CreationDate=[]\n",
    "# Score=[]\n",
    "# ViewCount=[]\n",
    "# Body=[]\n",
    "\n",
    "# #df2\n",
    "# Semi_major=[]\n",
    "# Major_cat=[]\n",
    "# post_Enviroment=[]\n",
    "# post_Dependency=[]\n",
    "# post_category=[]\n",
    "# post_language=[]\n",
    "\n",
    "dict={'Id':df2['Id'], 'Document_No':df2['Document_No'], 'Dominant_Topic':df2['Dominant_Topic'], 'Topic_Perc_Contrib':df2['Topic_Perc_Contrib'],\n",
    "     'Keywords':df2['Keywords'], 'Tags':df2['Tags'], 'Title':df2['Title'], 'AcceptedAnswerId':df2['AcceptedAnswerId'],\n",
    "     'OwnerUserId':df2['OwnerUserId'], 'AnswerCount':df2['AnswerCount'], 'CommentCount':df2['CommentCount'], 'FavoriteCount':df2['FavoriteCount'],\n",
    "     'CommunityOwnedDate':df2['CommunityOwnedDate'], 'CreationDate':df2['CreationDate'], 'Score':df2['Score'],  'ViewCount':df2['ViewCount'],\n",
    "     'Body':df2['Body'], 'Semi_major':df1['Semi_major'], 'Major_cat':df1['Major_cat'], 'post_Enviroment':df1['post_Enviroment'],\n",
    "     'post_Dependency':df1['post_Dependency'],  'post_category':df1['post_category'], 'post_language':df1['post_language']\n",
    "     }\n",
    "\n",
    "df12=pd.DataFrame(dict)\n",
    "\n",
    "df12.to_csv(\"3_Final_PM_dataset_with_all_information.csv\")\n"
   ]
  },
  {
   "cell_type": "code",
   "execution_count": 21,
   "metadata": {},
   "outputs": [
    {
     "data": {
      "text/plain": [
       "214609"
      ]
     },
     "execution_count": 21,
     "metadata": {},
     "output_type": "execute_result"
    }
   ],
   "source": [
    "len(df12)"
   ]
  },
  {
   "cell_type": "code",
   "execution_count": 22,
   "metadata": {
    "scrolled": true
   },
   "outputs": [
    {
     "data": {
      "text/plain": [
       "Index(['Id', 'Document_No', 'Dominant_Topic', 'Topic_Perc_Contrib', 'Keywords',\n",
       "       'Tags', 'Title', 'AcceptedAnswerId', 'OwnerUserId', 'AnswerCount',\n",
       "       'CommentCount', 'FavoriteCount', 'CommunityOwnedDate', 'CreationDate',\n",
       "       'Score', 'ViewCount', 'Body', 'Semi_major', 'Major_cat',\n",
       "       'post_Enviroment', 'post_Dependency', 'post_category', 'post_language'],\n",
       "      dtype='object')"
      ]
     },
     "execution_count": 22,
     "metadata": {},
     "output_type": "execute_result"
    }
   ],
   "source": [
    "df12.columns"
   ]
  },
  {
   "cell_type": "markdown",
   "metadata": {},
   "source": [
    "**Calculating popularity and difficulty**"
   ]
  },
  {
   "cell_type": "code",
   "execution_count": 25,
   "metadata": {},
   "outputs": [],
   "source": [
    "df2=pd.read_csv(\"3_Final_PM_dataset_with_all_information.csv\", low_memory=False)\n",
    "\n",
    "#\"\"\"\n",
    "Topic=[]\n",
    "number_per_topic=[]\n",
    "score_=[]\n",
    "view_=[]\n",
    "FavCount_=[]\n",
    "AnsCount_=[]\n",
    "AccpAnsCount_=[]\n",
    "CommentCount_=[]\n",
    "Keywords=[]\n",
    "theme=[]\n",
    "topic_name=[]\n",
    "\n",
    "\n",
    "for i in range(0, 10):\n",
    "    Topic.append(i)\n",
    "    score_0=[]\n",
    "    view_0=[]\n",
    "    FavCount_0=[]\n",
    "    AnsCount_0=[]\n",
    "    AccpAnsCount_0=[]\n",
    "    CommentCount_0=[]\n",
    "    key_0=[]\n",
    "    number=0\n",
    "    for index, j in enumerate(df2['Semi_major']):\n",
    "        if j==i:\n",
    "            number=number+1\n",
    "            if df2['AcceptedAnswerId'][index]>0:\n",
    "                AccpAnsCount_0.append(1)\n",
    "            score_0.append(df2['Score'][index])\n",
    "            view_0.append(df2['ViewCount'][index])\n",
    "            FavCount_0.append(df2['FavoriteCount'][index])\n",
    "            AnsCount_0.append(df2['AnswerCount'][index])\n",
    "            CommentCount_0.append(df2['CommentCount'][index])\n",
    "            key_0.append(df2['Keywords'][index])\n",
    "            th=df2['Major_cat'][index]\n",
    "            tp=df2['Semi_major'][index]\n",
    "    \n",
    "    theme.append(th)\n",
    "    topic_name.append(tp)\n",
    "    number_per_topic.append(number)\n",
    "    Keywords.append(set(key_0))\n",
    "    score_.append(statistics.median(score_0))\n",
    "    view_.append(statistics.median(view_0))\n",
    "    FavCount_.append(statistics.median(FavCount_0))\n",
    "    AnsCount_.append(statistics.median(AnsCount_0))\n",
    "    AccpAnsCount_.append(sum(AccpAnsCount_0)/len(score_0))\n",
    "    CommentCount_.append(statistics.median(CommentCount_0))\n",
    "    \n",
    "dict = {'Topic': Topic, 'Theme':theme, 'topic_name':topic_name,'Keywords:':Keywords, 'number_per_topic':number_per_topic, 'score_avg':score_, 'view_avg':view_, 'FavCount_avg':FavCount_, 'AnsCount_avg':AnsCount_, 'AccpAnsCount_avg':AccpAnsCount_, 'CommentCount_avg':CommentCount_}  \n",
    "df3 = pd.DataFrame(dict) \n",
    "df3.to_csv('10_PM_posts_statistics_median.csv', header=True, index=False)\n",
    "\n",
    "\n",
    "#\"\"\""
   ]
  },
  {
   "cell_type": "code",
   "execution_count": null,
   "metadata": {},
   "outputs": [],
   "source": []
  }
 ],
 "metadata": {
  "kernelspec": {
   "display_name": "Python 3",
   "language": "python",
   "name": "python3"
  },
  "language_info": {
   "codemirror_mode": {
    "name": "ipython",
    "version": 3
   },
   "file_extension": ".py",
   "mimetype": "text/x-python",
   "name": "python",
   "nbconvert_exporter": "python",
   "pygments_lexer": "ipython3",
   "version": "3.7.4"
  }
 },
 "nbformat": 4,
 "nbformat_minor": 2
}
